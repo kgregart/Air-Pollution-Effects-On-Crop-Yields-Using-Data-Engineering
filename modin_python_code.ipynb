{
 "cells": [
  {
   "cell_type": "code",
   "execution_count": null,
   "id": "58afb2b6",
   "metadata": {},
   "outputs": [],
   "source": [
    "#Skip if Modin is already installed - may have to do in terminal\n",
    "pip install \"modin[all]\"\n",
    "pip install --upgrade pandas"
   ]
  },
  {
   "cell_type": "code",
   "execution_count": 13,
   "id": "ee7d38f9",
   "metadata": {},
   "outputs": [],
   "source": [
    "import modin.pandas as pd\n",
    "import sqlite3"
   ]
  },
  {
   "cell_type": "code",
   "execution_count": 26,
   "id": "093b8a0f",
   "metadata": {},
   "outputs": [],
   "source": [
    "path_to_csv = 'documents/Final_Dataset_Project3.csv'\n",
    "\n",
    "# Use Modin pandas to read the CSV file\n",
    "df = pd.read_csv(path_to_csv)"
   ]
  },
  {
   "cell_type": "code",
   "execution_count": 27,
   "id": "38398723",
   "metadata": {},
   "outputs": [
    {
     "data": {
      "text/plain": [
       "<bound method BasePandasDataset.head of         State_Code  County_Code  Site Num  Parameter Code  POC   Latitude  \\\n",
       "0               54         61.0       5.0         42401.0  1.0  39.648414   \n",
       "1               54         69.0       7.0         42401.0  1.0  40.120502   \n",
       "2               54         69.0       7.0         42401.0  1.0  40.120502   \n",
       "3               54         69.0       7.0         42401.0  1.0  40.120502   \n",
       "4               54         69.0       7.0         42401.0  1.0  40.120502   \n",
       "...            ...          ...       ...             ...  ...        ...   \n",
       "2366771        NaN          NaN       NaN             NaN  NaN        NaN   \n",
       "2366772        NaN          NaN       NaN             NaN  NaN        NaN   \n",
       "2366773        NaN          NaN       NaN             NaN  NaN        NaN   \n",
       "2366774        NaN          NaN       NaN             NaN  NaN        NaN   \n",
       "2366775        NaN          NaN       NaN             NaN  NaN        NaN   \n",
       "\n",
       "         Longitude  Datum  Parameter Name Sample Duration  ... Hazardous Days  \\\n",
       "0       -79.957563  WGS84  Sulfur dioxide    3-HR BLK AVG  ...            0.0   \n",
       "1       -80.699067  WGS84  Sulfur dioxide          1 HOUR  ...            0.0   \n",
       "2       -80.699067  WGS84  Sulfur dioxide          1 HOUR  ...            0.0   \n",
       "3       -80.699067  WGS84  Sulfur dioxide   24-HR BLK AVG  ...            0.0   \n",
       "4       -80.699067  WGS84  Sulfur dioxide    3-HR BLK AVG  ...            0.0   \n",
       "...            ...    ...             ...             ...  ...            ...   \n",
       "2366771        NaN    NaN             NaN             NaN  ...            NaN   \n",
       "2366772        NaN    NaN             NaN             NaN  ...            NaN   \n",
       "2366773        NaN    NaN             NaN             NaN  ...            NaN   \n",
       "2366774        NaN    NaN             NaN             NaN  ...            NaN   \n",
       "2366775        NaN    NaN             NaN             NaN  ...            NaN   \n",
       "\n",
       "         Max AQI  90th Percentile AQI  Median AQI  Days CO  Days NO2  \\\n",
       "0          136.0                 90.0        50.0      0.0       0.0   \n",
       "1          182.0                101.0        44.0    102.0       0.0   \n",
       "2          182.0                101.0        44.0    102.0       0.0   \n",
       "3          182.0                101.0        44.0    102.0       0.0   \n",
       "4          182.0                101.0        44.0    102.0       0.0   \n",
       "...          ...                  ...         ...      ...       ...   \n",
       "2366771      NaN                  NaN         NaN      NaN       NaN   \n",
       "2366772      NaN                  NaN         NaN      NaN       NaN   \n",
       "2366773      NaN                  NaN         NaN      NaN       NaN   \n",
       "2366774      NaN                  NaN         NaN      NaN       NaN   \n",
       "2366775      NaN                  NaN         NaN      NaN       NaN   \n",
       "\n",
       "         Days Ozone  Days PM2.5  Days PM10  Farm Count  \n",
       "0             158.0        98.0        2.0         NaN  \n",
       "1             188.0        74.0        1.0         NaN  \n",
       "2             188.0        74.0        1.0         NaN  \n",
       "3             188.0        74.0        1.0         NaN  \n",
       "4             188.0        74.0        1.0         NaN  \n",
       "...             ...         ...        ...         ...  \n",
       "2366771         NaN         NaN        NaN          25  \n",
       "2366772         NaN         NaN        NaN          36  \n",
       "2366773         NaN         NaN        NaN         116  \n",
       "2366774         NaN         NaN        NaN         764  \n",
       "2366775         NaN         NaN        NaN         150  \n",
       "\n",
       "[2366776 rows x 66 columns]>"
      ]
     },
     "execution_count": 27,
     "metadata": {},
     "output_type": "execute_result"
    },
    {
     "name": "stderr",
     "output_type": "stream",
     "text": [
      "\u001b[33m(raylet)\u001b[0m [2024-04-17 21:05:54,504 E 30209 4356850] (raylet) file_system_monitor.cc:111: /tmp/ray/session_2024-04-17_20-30-13_738152_29385 is over 95% full, available space: 12327211008; capacity: 250685575168. Object creation will fail if spilling is required.\n",
      "\u001b[33m(raylet)\u001b[0m [2024-04-17 21:06:04,590 E 30209 4356850] (raylet) file_system_monitor.cc:111: /tmp/ray/session_2024-04-17_20-30-13_738152_29385 is over 95% full, available space: 12233338880; capacity: 250685575168. Object creation will fail if spilling is required.\n",
      "\u001b[33m(raylet)\u001b[0m [2024-04-17 21:06:14,658 E 30209 4356850] (raylet) file_system_monitor.cc:111: /tmp/ray/session_2024-04-17_20-30-13_738152_29385 is over 95% full, available space: 12233076736; capacity: 250685575168. Object creation will fail if spilling is required.\n",
      "\u001b[33m(raylet)\u001b[0m [2024-04-17 21:06:24,692 E 30209 4356850] (raylet) file_system_monitor.cc:111: /tmp/ray/session_2024-04-17_20-30-13_738152_29385 is over 95% full, available space: 12232679424; capacity: 250685575168. Object creation will fail if spilling is required.\n",
      "\u001b[33m(raylet)\u001b[0m [2024-04-17 21:06:34,716 E 30209 4356850] (raylet) file_system_monitor.cc:111: /tmp/ray/session_2024-04-17_20-30-13_738152_29385 is over 95% full, available space: 12236226560; capacity: 250685575168. Object creation will fail if spilling is required.\n",
      "\u001b[33m(raylet)\u001b[0m [2024-04-17 21:06:44,794 E 30209 4356850] (raylet) file_system_monitor.cc:111: /tmp/ray/session_2024-04-17_20-30-13_738152_29385 is over 95% full, available space: 12233781248; capacity: 250685575168. Object creation will fail if spilling is required.\n",
      "\u001b[33m(raylet)\u001b[0m [2024-04-17 21:06:54,812 E 30209 4356850] (raylet) file_system_monitor.cc:111: /tmp/ray/session_2024-04-17_20-30-13_738152_29385 is over 95% full, available space: 12233605120; capacity: 250685575168. Object creation will fail if spilling is required.\n",
      "\u001b[33m(raylet)\u001b[0m [2024-04-17 21:07:04,858 E 30209 4356850] (raylet) file_system_monitor.cc:111: /tmp/ray/session_2024-04-17_20-30-13_738152_29385 is over 95% full, available space: 12243083264; capacity: 250685575168. Object creation will fail if spilling is required.\n",
      "\u001b[33m(raylet)\u001b[0m [2024-04-17 21:07:14,871 E 30209 4356850] (raylet) file_system_monitor.cc:111: /tmp/ray/session_2024-04-17_20-30-13_738152_29385 is over 95% full, available space: 12249079808; capacity: 250685575168. Object creation will fail if spilling is required.\n",
      "\u001b[33m(raylet)\u001b[0m [2024-04-17 21:07:24,934 E 30209 4356850] (raylet) file_system_monitor.cc:111: /tmp/ray/session_2024-04-17_20-30-13_738152_29385 is over 95% full, available space: 12253200384; capacity: 250685575168. Object creation will fail if spilling is required.\n",
      "\u001b[33m(raylet)\u001b[0m [2024-04-17 21:07:35,017 E 30209 4356850] (raylet) file_system_monitor.cc:111: /tmp/ray/session_2024-04-17_20-30-13_738152_29385 is over 95% full, available space: 11523604480; capacity: 250685575168. Object creation will fail if spilling is required.\n",
      "\u001b[33m(raylet)\u001b[0m [2024-04-17 21:23:28,308 E 30209 4356850] (raylet) file_system_monitor.cc:111: /tmp/ray/session_2024-04-17_20-30-13_738152_29385 is over 95% full, available space: 12487544832; capacity: 250685575168. Object creation will fail if spilling is required.\n",
      "\u001b[33m(raylet)\u001b[0m [2024-04-17 21:24:23,404 E 30209 4356850] (raylet) file_system_monitor.cc:111: /tmp/ray/session_2024-04-17_20-30-13_738152_29385 is over 95% full, available space: 12488495104; capacity: 250685575168. Object creation will fail if spilling is required.\n",
      "\u001b[33m(raylet)\u001b[0m [2024-04-17 21:24:33,417 E 30209 4356850] (raylet) file_system_monitor.cc:111: /tmp/ray/session_2024-04-17_20-30-13_738152_29385 is over 95% full, available space: 12359409664; capacity: 250685575168. Object creation will fail if spilling is required.\n"
     ]
    }
   ],
   "source": [
    "df.head"
   ]
  },
  {
   "cell_type": "code",
   "execution_count": null,
   "id": "f7f5852b",
   "metadata": {},
   "outputs": [],
   "source": []
  },
  {
   "cell_type": "code",
   "execution_count": null,
   "id": "507fca1d",
   "metadata": {},
   "outputs": [],
   "source": []
  }
 ],
 "metadata": {
  "kernelspec": {
   "display_name": "Python 3 (ipykernel)",
   "language": "python",
   "name": "python3"
  },
  "language_info": {
   "codemirror_mode": {
    "name": "ipython",
    "version": 3
   },
   "file_extension": ".py",
   "mimetype": "text/x-python",
   "name": "python",
   "nbconvert_exporter": "python",
   "pygments_lexer": "ipython3",
   "version": "3.11.5"
  }
 },
 "nbformat": 4,
 "nbformat_minor": 5
}
